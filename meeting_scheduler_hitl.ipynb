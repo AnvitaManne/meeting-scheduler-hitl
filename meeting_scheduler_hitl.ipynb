{
 "cells": [
  {
   "cell_type": "markdown",
   "id": "a0b1c2d3-e4f5-a6b7-c8d9-e0f1a2b3c4d5",
   "metadata": {},
   "source": [
    "# LangGraph Agent with Human-in-the-Loop"
   ]
  },
  {
   "cell_type": "markdown",
   "id": "e0a7f1a1-c1e0-4c3e-b8a9-8356f7b1e4a2",
   "metadata": {},
   "source": [
    "## Setup"
   ]
  },
  {
   "cell_type": "code",
   "execution_count": null,
   "id": "bc92e2c5-c034-4115-91f6-8f6eaf78fadf",
   "metadata": {},
   "outputs": [],
   "source": [
    "\n",
    "!pip install -U langgraph langchain langchain-core\n",
    "\n"
   ]
  },
  {
   "cell_type": "code",
   "execution_count": null,
   "id": "10cd6a14-eff3-4005-966b-94fb5392436d",
   "metadata": {},
   "outputs": [],
   "source": [
    "!pip install --force-reinstall langchain-core\n"
   ]
  },
  {
   "cell_type": "code",
   "execution_count": 56,
   "id": "248c509c-dde5-4cc7-85fd-db21dbff1c34",
   "metadata": {},
   "outputs": [],
   "source": [
    "from langchain_core.tools import BaseTool, tool as create_tool\n",
    "from langchain_core.runnables import RunnableConfig\n"
   ]
  },
  {
   "cell_type": "code",
   "execution_count": null,
   "id": "420f711e-c913-48d4-867c-2917a549bad0",
   "metadata": {},
   "outputs": [],
   "source": [
    "from langgraph.checkpoint.memory import InMemorySaver\n",
    "from langgraph.prebuilt import create_react_agent\n",
    "from langgraph.types import interrupt, Command\n",
    "print(\"hi\")"
   ]
  },
  {
   "cell_type": "code",
   "execution_count": null,
   "id": "7b52542f-2c06-4628-8db1-07f6905eee85",
   "metadata": {},
   "outputs": [],
   "source": [
    "pip install -U langchain-anthropic"
   ]
  },
  {
   "cell_type": "code",
   "execution_count": 61,
   "id": "c4720f8d-3037-4a82-a4f8-79e8b6e3bb6a",
   "metadata": {},
   "outputs": [],
   "source": [
    "import os\n",
    "os.environ[\"LANGCHAIN_API_KEY\"] = \"YOUR_LANGCHAIN_API_KEY_HERE\"\n",
    "os.environ[\"LANGCHAIN_ENDPOINT\"] = \"https://api.smith.langchain.com\"\n",
    "os.environ[\"LANGCHAIN_TRACING_V2\"] = \"true\"\n",
    "os.environ[\"OPENAI_API_KEY\"] = \"YOUR_OPENAI_API_KEY_HERE\"\n"
   ]
  },
  {
   "cell_type": "code",
   "execution_count": null,
   "id": "a5a3e2c2-4367-489c-be01-dad7de6a1217",
   "metadata": {},
   "outputs": [],
   "source": [
    "!pip uninstall regex -y\n",
    "!pip install regex\n"
   ]
  },
  {
   "cell_type": "code",
   "execution_count": null,
   "id": "f1b46c44-0c75-4d54-a85c-c5f88deab69b",
   "metadata": {},
   "outputs": [],
   "source": [
    "!pip uninstall tiktoken -y\n",
    "!pip install tiktoken\n"
   ]
  },
  {
   "cell_type": "markdown",
   "id": "a1b2c3d4-e5f6-a7b8-c9d0-e1f2a3b4c5d6",
   "metadata": {},
   "source": [
    "## Define Tool with Interrupt"
   ]
  },
  {
   "cell_type": "code",
   "execution_count": 59,
   "id": "9c45b2c7-c195-4b52-af16-a242854d512a",
   "metadata": {},
   "outputs": [],
   "source": [
    "def schedule_meeting(person: str, date: str, time: str):   \n",
    "    proposal = f\"\"\"\n",
    "    Proposed Meeting:\n",
    "    - With: {person}\n",
    "    - On: {date}\n",
    "    - At: {time}\n",
    "    \"\"\"\n",
    "    # Pause here for human approval\n",
    "    response = interrupt(\n",
    "        f\"Here is the proposed meeting schedule:\\n{proposal}\\n\\nPlease approve or edit.\"\n",
    "    )\n",
    "\n",
    "    # Process human response\n",
    "    if response[\"type\"] == \"accept\":\n",
    "        pass\n",
    "    elif response[\"type\"] == \"edit\":\n",
    "        person = response[\"args\"][\"person\"]\n",
    "        date = response[\"args\"][\"date\"]\n",
    "        time = response[\"args\"][\"time\"]\n",
    "    else:\n",
    "        raise ValueError(f\"Unsupported response type: {response['type']}\")\n",
    "\n",
    "    return f\" Meeting confirmed with {person} on {date} at {time}.\"\n"
   ]
  },
  {
   "cell_type": "code",
   "execution_count": 60,
   "id": "a41de732-7ce9-48d5-9efe-3170dfe969f3",
   "metadata": {},
   "outputs": [],
   "source": [
    "from langgraph.prebuilt import create_react_agent\n"
   ]
  },
  {
   "cell_type": "code",
   "execution_count": 66,
   "id": "9fe59cad-6603-4d2f-bf1b-0075e0471750",
   "metadata": {},
   "outputs": [],
   "source": [
    "from langgraph.types import interrupt\n",
    "\n",
    "def schedule_meeting_with_approval(person: str, date: str, time: str):\n",
    "   \"\"\"Schedule a meeting with a person at a specific date and time.\"\"\"\n",
    "\n",
    "   response = interrupt(\n",
    "       f\"Schedule meeting with person='{person}', date='{date}', time='{time}'. Approve or edit?\"\n",
    "   )\n",
    "   \n",
    "   if response[\"type\"] == \"accept\":      \n",
    "       return f\" Meeting confirmed with {person} on {date} at {time}.\"\n",
    "   elif response[\"type\"] == \"edit\":\n",
    "       person = response[\"args\"].get(\"person\", person)\n",
    "       date = response[\"args\"].get(\"date\", date)\n",
    "       time = response[\"args\"].get(\"time\", time)\n",
    "       return f\"Meeting confirmed with {person} on {date} at {time}.\"\n",
    "   else:\n",
    "       return \"Meeting scheduling cancelled or unknown response.\"\n"
   ]
  },
  {
   "cell_type": "code",
   "execution_count": 80,
   "id": "c8430a54-3c09-45ca-9c42-51d990ad7b5e",
   "metadata": {},
   "outputs": [],
   "source": [
    "checkpointer = InMemorySaver()\n",
    "\n",
    "agent = create_react_agent(\n",
    "    model=\"openai:gpt-4\",\n",
    "    tools=[schedule_meeting_with_approval],\n",
    "\n",
    "    checkpointer=checkpointer,\n",
    ")\n",
    "\n",
    "\n"
   ]
  },
  {
   "cell_type": "markdown",
   "id": "f7e8d9c0-b1a2-e3f4-d5c6-a7b8c9d0e1f2",
   "metadata": {},
   "source": [
    "## Run Agent"
   ]
  },
  {
   "cell_type": "code",
   "execution_count": 81,
   "id": "04a5307e-7820-4749-b465-b73fd8b56834",
   "metadata": {},
   "outputs": [
    {
     "name": "stdout",
     "output_type": "stream",
     "text": [
      "{'agent': {'messages': [AIMessage(content='', additional_kwargs={'tool_calls': [{'id': 'call_B7cMYiT5WLsD2LJa80emH6gb', 'function': {'arguments': '{\\n\"person\": \"Max\",\\n\"date\": \"Tuesday\",\\n\"time\": \"3pm\"\\n}', 'name': 'schedule_meeting_with_approval'}, 'type': 'function'}], 'refusal': None}, response_metadata={'token_usage': {'completion_tokens': 29, 'prompt_tokens': 80, 'total_tokens': 109, 'completion_tokens_details': {'accepted_prediction_tokens': 0, 'audio_tokens': 0, 'reasoning_tokens': 0, 'rejected_prediction_tokens': 0}, 'prompt_tokens_details': {'audio_tokens': 0, 'cached_tokens': 0}}, 'model_name': 'gpt-4-0613', 'system_fingerprint': None, 'id': 'chatcmpl-BbSj3bonaA99RyXBtF4o28CWwC3IJ', 'service_tier': 'default', 'finish_reason': 'tool_calls', 'logprobs': None}, id='run--41bfbaf0-17cb-4f5c-8d10-4c6aa4a1d1a7-0', tool_calls=[{'name': 'schedule_meeting_with_approval', 'args': {'person': 'Max', 'date': 'Tuesday', 'time': '3pm'}, 'id': 'call_B7cMYiT5WLsD2LJa80emH6gb', 'type': 'tool_call'}], usage_metadata={'input_tokens': 80, 'output_tokens': 29, 'total_tokens': 109, 'input_token_details': {'audio': 0, 'cache_read': 0}, 'output_token_details': {'audio': 0, 'reasoning': 0}})]}}\n",
      "{'__interrupt__': (Interrupt(value=\"Schedule meeting with person='Max', date='Tuesday', time='3pm'. Approve or edit?\", resumable=True, ns=['tools:ed5c322f-45de-f5ee-ce39-fd1176cfadba']),)}\n"
     ]
    }
   ],
   "source": [
    "config = {\"configurable\": {\"thread_id\": \"meeting-123\"}}\n",
    "\n",
    "for chunk in agent.stream(\n",
    "    {\n",
    "        \"messages\": [{\n",
    "            \"role\": \"user\",\n",
    "            \"content\": \"schedule_meeting with person='Max', date='Tuesday', time='3pm'\"\n",
    "        }]\n",
    "    },\n",
    "    config\n",
    "):\n",
    "    print(chunk)\n"
   ]
  },
  {
   "cell_type": "code",
   "execution_count": 86,
   "id": "92fd6892-6b7b-436a-a831-78587035e3b0",
   "metadata": {},
   "outputs": [
    {
     "name": "stdout",
     "output_type": "stream",
     "text": [
      "Enter person to meet:  Anvita\n",
      "Enter meeting date:  27th May\n",
      "Enter meeting time:  3pm\n"
     ]
    },
    {
     "name": "stdout",
     "output_type": "stream",
     "text": [
      "\n",
      "Here is the proposed meeting schedule:\n",
      "\n",
      "    Proposed Meeting:\n",
      "    - With: Anvita\n",
      "    - On: 27th May\n",
      "    - At: 3pm\n",
      "\n",
      "Please approve, edit, reject, or respond with feedback.\n",
      "\n"
     ]
    },
    {
     "name": "stdout",
     "output_type": "stream",
     "text": [
      "Type your decision (accept / edit / reject / respond):  edit\n",
      "New person (leave blank to keep 'Anvita'):  \n",
      "New date (leave blank to keep '27th May'):  \n",
      "New time (leave blank to keep '3pm'):  5pm\n"
     ]
    },
    {
     "name": "stdout",
     "output_type": "stream",
     "text": [
      "\n",
      "Your choice: {'type': 'edit', 'args': {'person': 'Anvita', 'date': '27th May', 'time': '5pm'}}\n",
      "\n",
      " Meeting updated to Anvita on 27th May at 5pm.\n"
     ]
    }
   ],
   "source": [
    "import textwrap\n",
    "\n",
    "# Getting user input \n",
    "person = input(\"Enter person to meet: \").strip()\n",
    "date = input(\"Enter meeting date: \").strip()\n",
    "time = input(\"Enter meeting time: \").strip()\n",
    "\n",
    "# Prepare user message for agent\n",
    "user_message = f\"schedule_meeting with person='{person}', date='{date}', time='{time}'\"\n",
    "\n",
    "interrupt_message = f\"\"\"\n",
    "Here is the proposed meeting schedule:\n",
    "\n",
    "    Proposed Meeting:\n",
    "    - With: {person}\n",
    "    - On: {date}\n",
    "    - At: {time}\n",
    "\n",
    "Please approve, edit, reject, or respond with feedback.\n",
    "\"\"\"\n",
    "\n",
    "print(textwrap.dedent(interrupt_message))\n",
    "\n",
    "# Human-in-the-loop input\n",
    "decision = input(\"Type your decision (accept / edit / reject / respond): \").strip().lower()\n",
    "\n",
    "if decision == \"accept\":\n",
    "    resume_payload = {\"type\": \"accept\"}\n",
    "\n",
    "elif decision == \"reject\":\n",
    "    resume_payload = {\"type\": \"reject\"}\n",
    "\n",
    "elif decision == \"edit\":\n",
    "    new_person = input(f\"New person (leave blank to keep '{person}'): \").strip()\n",
    "    new_date = input(f\"New date (leave blank to keep '{date}'): \").strip()\n",
    "    new_time = input(f\"New time (leave blank to keep '{time}'): \").strip()\n",
    "\n",
    "    args = {\n",
    "        \"person\": new_person if new_person else person,\n",
    "        \"date\": new_date if new_date else date,\n",
    "        \"time\": new_time if new_time else time,\n",
    "    }\n",
    "    resume_payload = {\"type\": \"edit\", \"args\": args}\n",
    "\n",
    "elif decision == \"response\":\n",
    "    feedback = input(\"Enter your feedback or comment: \").strip()\n",
    "    resume_payload = {\"type\": \"response\", \"args\": feedback}\n",
    "\n",
    "else:\n",
    "    print(\"Invalid input, rejecting by default.\")\n",
    "    resume_payload = {\"type\": \"reject\"}\n",
    "\n",
    "# Output the choice\n",
    "print(\"\\nYour choice:\", resume_payload)\n",
    "\n",
    "# Handle decision\n",
    "if resume_payload[\"type\"] == \"accept\":\n",
    "    print(f\"\\n Meeting confirmed with {person} on {date} at {time}.\")\n",
    "\n",
    "elif resume_payload[\"type\"] == \"reject\":\n",
    "    print(\"\\n Meeting scheduling cancelled.\")\n",
    "\n",
    "elif resume_payload[\"type\"] == \"edit\":\n",
    "    updated = resume_payload[\"args\"]\n",
    "    print(f\"\\n Meeting updated to {updated['person']} on {updated['date']} at {updated['time']}.\")\n",
    "\n",
    "elif resume_payload[\"type\"] == \"response\":\n",
    "    print(\"\\n Feedback received:\")\n",
    "    print(f\"“{resume_payload['args']}”\")\n"
   ]
  },
  {
   "cell_type": "code",
   "execution_count": null,
   "id": "2edb6e0a-4c22-46ed-a82a-92e82754620b",
   "metadata": {},
   "outputs": [],
   "source": []
  }
 ],
 "metadata": {
  "kernelspec": {
   "display_name": "Python 3 (ipykernel)",
   "language": "python",
   "name": "python3"
  },
  "language_info": {
   "codemirror_mode": {
    "name": "ipython",
    "version": 3
   },
   "file_extension": ".py",
   "mimetype": "text/x-python",
   "name": "python",
   "nbconvert_exporter": "python",
   "pygments_lexer": "ipython3",
   "version": "3.10.11"
  }
 },
 "nbformat": 4,
 "nbformat_minor": 5
}
